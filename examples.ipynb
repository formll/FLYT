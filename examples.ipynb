{
 "cells": [
  {
   "cell_type": "code",
   "execution_count": 1,
   "id": "1a4f0b47-62e0-4377-90de-c0f519f221cc",
   "metadata": {},
   "outputs": [],
   "source": [
    "# Imports\n",
    "import os\n",
    "import shutil\n",
    "import requests\n",
    "import uuid\n",
    "import torch\n",
    "import numpy as np\n",
    "import pandas as pd\n",
    "from tqdm.auto import tqdm\n",
    "\n",
    "from huggingface_hub import hf_hub_download, list_repo_files\n",
    "from flyt.factory import MixingModel, create_scoring_model\n",
    "from open_clip.src.open_clip import create_model"
   ]
  },
  {
   "cell_type": "markdown",
   "id": "27dd9b9f-1bd8-4c8c-a94c-b360e4cd53db",
   "metadata": {},
   "source": [
    "# Load a model"
   ]
  },
  {
   "cell_type": "code",
   "execution_count": 2,
   "id": "95028eb9-6d7e-4467-aa67-b1d8d297eec3",
   "metadata": {},
   "outputs": [],
   "source": [
    "models_repo_id = 'formll/FLYT-models'\n",
    "cache_dir = None  # Specify cache dir if you want"
   ]
  },
  {
   "cell_type": "code",
   "execution_count": 3,
   "id": "8737903c-375e-4c48-8c0f-63a9b1032dfc",
   "metadata": {},
   "outputs": [],
   "source": [
    "# load FLYT checkpoint\n",
    "flyt_filename = 'scoring_models/flyt.pt'\n",
    "flyt_model_path = hf_hub_download(\n",
    "    repo_id=models_repo_id,\n",
    "    filename=flyt_filename,\n",
    "    cache_dir=cache_dir)\n",
    "flyt_checkpoint = torch.load(flyt_model_path, map_location='cpu', weights_only=True)\n",
    "# Load weights to model\n",
    "scoring_model = create_scoring_model(\n",
    "    model_name='ViT-B-32',\n",
    "    full_scoring_pretrained=flyt_model_path)\n",
    "# Look at the code to see the different parameters. For this model the parameters receive mostly default values."
   ]
  },
  {
   "cell_type": "code",
   "execution_count": 4,
   "id": "64162007-90d6-498f-852c-a59fbb3acc9d",
   "metadata": {},
   "outputs": [
    {
     "data": {
      "text/plain": [
       "<All keys matched successfully>"
      ]
     },
     "execution_count": 4,
     "metadata": {},
     "output_type": "execute_result"
    }
   ],
   "source": [
    "# load M-FLYT checkpoint\n",
    "mflyt_filename = 'scoring_models/mflyt.pt'\n",
    "mflyt_model_path = hf_hub_download(\n",
    "    repo_id=models_repo_id,\n",
    "    filename=mflyt_filename,\n",
    "    cache_dir=cache_dir)\n",
    "mflyt_checkpoint = torch.load(mflyt_model_path, map_location='cpu', weights_only=True)\n",
    "# Load weights to model\n",
    "num_scores = mflyt_checkpoint['layers.0.weight'].shape[1]\n",
    "mixing_model = MixingModel(num_scores=num_scores)\n",
    "mixing_model.load_state_dict(mflyt_checkpoint)"
   ]
  },
  {
   "cell_type": "code",
   "execution_count": 5,
   "id": "99b9e5b0-39a8-4033-998e-d2a1142ede0d",
   "metadata": {},
   "outputs": [],
   "source": [
    "# Load CLIP checkpoint\n",
    "clip_filename = 'medium/mflyt_medium_scs015/model.pt'\n",
    "clip_model_path = hf_hub_download(\n",
    "    repo_id=models_repo_id,\n",
    "    filename=clip_filename,\n",
    "    cache_dir=cache_dir)\n",
    "clip_model = create_model(\n",
    "    model_name='ViT-B-32',\n",
    "    pretrained=clip_model_path)"
   ]
  },
  {
   "cell_type": "markdown",
   "id": "7717abef-5eba-4a8f-97d2-c1a8430b7807",
   "metadata": {},
   "source": [
    "## Example: view M-FLYT linear weights (Table 2)"
   ]
  },
  {
   "cell_type": "code",
   "execution_count": 6,
   "id": "46e22765-54f9-48f8-8dda-5c7dec876438",
   "metadata": {},
   "outputs": [],
   "source": [
    "linear_weights = mixing_model.layers[0].weight.detach().numpy()[0].tolist()\n",
    "input_scores_names = [\n",
    "    \"vit-b-32\", \"vit-l-14\",\n",
    "    \"DFN-Base\", \"DFN-FT\",\n",
    "    \"CC2M-Classifier\", \"IN1K-Classifier\",\n",
    "    \"FLYT\",\n",
    "    \"normsim_inf\", \"negCLIPLoss\", \n",
    "    \"hype_lorentzian_distance\", \"hype_image_specificity\", \"hype_text_specificity\"]"
   ]
  },
  {
   "cell_type": "code",
   "execution_count": 7,
   "id": "c0136566-45dd-4dd0-b162-0e47108b28f3",
   "metadata": {},
   "outputs": [
    {
     "name": "stdout",
     "output_type": "stream",
     "text": [
      "Model Name                   Weight\n",
      "\n",
      "vit-b-32                     0.08\n",
      "vit-l-14                     0.21\n",
      "DFN-Base                     0.60\n",
      "DFN-FT                       0.80\n",
      "CC2M-Classifier              0.17\n",
      "IN1K-Classifier              0.36\n",
      "FLYT                         0.65\n",
      "normsim_inf                  0.55\n",
      "negCLIPLoss                  0.51\n",
      "hype_lorentzian_distance     0.45\n",
      "hype_image_specificity       -0.05\n",
      "hype_text_specificity        0.02\n"
     ]
    }
   ],
   "source": [
    "max_n_len = max(len(n) for n in input_scores_names)\n",
    "print(f\"{'Model Name'.ljust(max_n_len + 5)}Weight\\n\")\n",
    "\n",
    "for n, w in zip(input_scores_names, linear_weights):\n",
    "    w_str = f\"{w:.2f}\"\n",
    "    print(f\"{n.ljust(max_n_len + 5)}{w_str}\")"
   ]
  },
  {
   "cell_type": "markdown",
   "id": "a666a6c5-b454-442b-b8a3-a267c63431ae",
   "metadata": {},
   "source": [
    "# Download parquet scores for training\n",
    "Download the dataset from Hugging face and save it in the format the training code expects."
   ]
  },
  {
   "cell_type": "code",
   "execution_count": 8,
   "id": "54481036-72ed-490e-9bd8-6957a272af4f",
   "metadata": {},
   "outputs": [],
   "source": [
    "def download_parquet_dataset_from_hf(repo_id, tmp_dir=\"tmp_dir\"):\n",
    "    \"\"\"Download parquet files from Hugging Face and load them into a single dataframe\"\"\"\n",
    "    os.makedirs(tmp_dir, exist_ok=False)  # The directory will be deleted at the end of this function\n",
    "    files = list_repo_files(repo_id, repo_type=\"dataset\")\n",
    "    parquet_files = [f for f in files if f.endswith('.parquet')]\n",
    "    dfs = []\n",
    "    \n",
    "    try:\n",
    "        for f in tqdm(parquet_files):\n",
    "            file_path = hf_hub_download(repo_id=repo_id, filename=f, cache_dir=tmp_dir, repo_type=\"dataset\")\n",
    "            df = pd.read_parquet(file_path)\n",
    "            dfs.append(df)\n",
    "        \n",
    "        combined_df = pd.concat(dfs, ignore_index=True)\n",
    "\n",
    "        return combined_df\n",
    "    \n",
    "    finally:\n",
    "        shutil.rmtree(tmp_dir)\n",
    "\n",
    "def save_to_parquet_chunks(df, output_dir, prefix_length=8):\n",
    "    \"\"\"Save a dataframe to parquet files in the format {00000000..XXXXXXXX}_scores.parquet\"\"\"\n",
    "    os.makedirs(output_dir, exist_ok=True)\n",
    "    df['key_prefix'] = df['key'].str[:prefix_length]\n",
    "    \n",
    "    for prefix, group in tqdm(df.groupby('key_prefix')):\n",
    "        group = group.drop('key_prefix', axis=1)\n",
    "        output_file = os.path.join(output_dir, f\"{prefix}_scores.parquet\")\n",
    "        group.to_parquet(output_file, index=False)"
   ]
  },
  {
   "cell_type": "code",
   "execution_count": 9,
   "id": "e686849b-84ba-4f74-a279-595c10ea009c",
   "metadata": {
    "scrolled": true
   },
   "outputs": [
    {
     "data": {
      "application/vnd.jupyter.widget-view+json": {
       "model_id": "3cb2a7f5432947d9a61e178c7f91448a",
       "version_major": 2,
       "version_minor": 0
      },
      "text/plain": [
       "  0%|          | 0/37 [00:00<?, ?it/s]"
      ]
     },
     "metadata": {},
     "output_type": "display_data"
    },
    {
     "data": {
      "application/vnd.jupyter.widget-view+json": {
       "model_id": "4f78a4c955814f07a4996b79e13c30cf",
       "version_major": 2,
       "version_minor": 0
      },
      "text/plain": [
       "train-00000-of-00037.parquet:   0%|          | 0.00/538M [00:00<?, ?B/s]"
      ]
     },
     "metadata": {},
     "output_type": "display_data"
    },
    {
     "data": {
      "application/vnd.jupyter.widget-view+json": {
       "model_id": "10c659a25b0f4df6a8b3c6a01f3ccf39",
       "version_major": 2,
       "version_minor": 0
      },
      "text/plain": [
       "train-00001-of-00037.parquet:   0%|          | 0.00/538M [00:00<?, ?B/s]"
      ]
     },
     "metadata": {},
     "output_type": "display_data"
    },
    {
     "data": {
      "application/vnd.jupyter.widget-view+json": {
       "model_id": "b79f0edc65744ebf85abb8441edb3647",
       "version_major": 2,
       "version_minor": 0
      },
      "text/plain": [
       "train-00002-of-00037.parquet:   0%|          | 0.00/538M [00:00<?, ?B/s]"
      ]
     },
     "metadata": {},
     "output_type": "display_data"
    },
    {
     "data": {
      "application/vnd.jupyter.widget-view+json": {
       "model_id": "9ef5518188e14af794396159a9b50d56",
       "version_major": 2,
       "version_minor": 0
      },
      "text/plain": [
       "train-00003-of-00037.parquet:   0%|          | 0.00/538M [00:00<?, ?B/s]"
      ]
     },
     "metadata": {},
     "output_type": "display_data"
    },
    {
     "data": {
      "application/vnd.jupyter.widget-view+json": {
       "model_id": "98a46c0309e14845b8bc7c82f2d9f86d",
       "version_major": 2,
       "version_minor": 0
      },
      "text/plain": [
       "train-00004-of-00037.parquet:   0%|          | 0.00/538M [00:00<?, ?B/s]"
      ]
     },
     "metadata": {},
     "output_type": "display_data"
    },
    {
     "data": {
      "application/vnd.jupyter.widget-view+json": {
       "model_id": "03f43b7c4dc24dfbb9975622faf69f2c",
       "version_major": 2,
       "version_minor": 0
      },
      "text/plain": [
       "train-00005-of-00037.parquet:   0%|          | 0.00/538M [00:00<?, ?B/s]"
      ]
     },
     "metadata": {},
     "output_type": "display_data"
    },
    {
     "data": {
      "application/vnd.jupyter.widget-view+json": {
       "model_id": "7f149c6fd1ec41e8b02ced3e6989d315",
       "version_major": 2,
       "version_minor": 0
      },
      "text/plain": [
       "train-00006-of-00037.parquet:   0%|          | 0.00/538M [00:00<?, ?B/s]"
      ]
     },
     "metadata": {},
     "output_type": "display_data"
    },
    {
     "data": {
      "application/vnd.jupyter.widget-view+json": {
       "model_id": "daaf31a6229043ef9b1f97aa6003a786",
       "version_major": 2,
       "version_minor": 0
      },
      "text/plain": [
       "train-00007-of-00037.parquet:   0%|          | 0.00/538M [00:00<?, ?B/s]"
      ]
     },
     "metadata": {},
     "output_type": "display_data"
    },
    {
     "data": {
      "application/vnd.jupyter.widget-view+json": {
       "model_id": "b4708f7f6fae45419975fc37ddf419fd",
       "version_major": 2,
       "version_minor": 0
      },
      "text/plain": [
       "train-00008-of-00037.parquet:   0%|          | 0.00/538M [00:00<?, ?B/s]"
      ]
     },
     "metadata": {},
     "output_type": "display_data"
    },
    {
     "data": {
      "application/vnd.jupyter.widget-view+json": {
       "model_id": "993ff49602ca48288aa4eb5455f00e2b",
       "version_major": 2,
       "version_minor": 0
      },
      "text/plain": [
       "train-00009-of-00037.parquet:   0%|          | 0.00/538M [00:00<?, ?B/s]"
      ]
     },
     "metadata": {},
     "output_type": "display_data"
    },
    {
     "data": {
      "application/vnd.jupyter.widget-view+json": {
       "model_id": "b0b39a7e1ff644fea247c399a5e72564",
       "version_major": 2,
       "version_minor": 0
      },
      "text/plain": [
       "train-00010-of-00037.parquet:   0%|          | 0.00/538M [00:00<?, ?B/s]"
      ]
     },
     "metadata": {},
     "output_type": "display_data"
    },
    {
     "data": {
      "application/vnd.jupyter.widget-view+json": {
       "model_id": "d4b41ff5ad91426eab9edca9285e4452",
       "version_major": 2,
       "version_minor": 0
      },
      "text/plain": [
       "train-00011-of-00037.parquet:   0%|          | 0.00/538M [00:00<?, ?B/s]"
      ]
     },
     "metadata": {},
     "output_type": "display_data"
    },
    {
     "data": {
      "application/vnd.jupyter.widget-view+json": {
       "model_id": "9d55fbf9574943ec8e803a410d3ed388",
       "version_major": 2,
       "version_minor": 0
      },
      "text/plain": [
       "train-00012-of-00037.parquet:   0%|          | 0.00/538M [00:00<?, ?B/s]"
      ]
     },
     "metadata": {},
     "output_type": "display_data"
    },
    {
     "data": {
      "application/vnd.jupyter.widget-view+json": {
       "model_id": "d5ded4db1fc3468aa12af2a5f085fc01",
       "version_major": 2,
       "version_minor": 0
      },
      "text/plain": [
       "train-00013-of-00037.parquet:   0%|          | 0.00/538M [00:00<?, ?B/s]"
      ]
     },
     "metadata": {},
     "output_type": "display_data"
    },
    {
     "data": {
      "application/vnd.jupyter.widget-view+json": {
       "model_id": "94460415f2894854a937110fb232d5e6",
       "version_major": 2,
       "version_minor": 0
      },
      "text/plain": [
       "train-00014-of-00037.parquet:   0%|          | 0.00/538M [00:00<?, ?B/s]"
      ]
     },
     "metadata": {},
     "output_type": "display_data"
    },
    {
     "data": {
      "application/vnd.jupyter.widget-view+json": {
       "model_id": "477cd2aaa22e422389b7009ca843e63a",
       "version_major": 2,
       "version_minor": 0
      },
      "text/plain": [
       "train-00015-of-00037.parquet:   0%|          | 0.00/538M [00:00<?, ?B/s]"
      ]
     },
     "metadata": {},
     "output_type": "display_data"
    },
    {
     "data": {
      "application/vnd.jupyter.widget-view+json": {
       "model_id": "5a1681158a0c4eac91fe501d629c5bf5",
       "version_major": 2,
       "version_minor": 0
      },
      "text/plain": [
       "train-00016-of-00037.parquet:   0%|          | 0.00/538M [00:00<?, ?B/s]"
      ]
     },
     "metadata": {},
     "output_type": "display_data"
    },
    {
     "data": {
      "application/vnd.jupyter.widget-view+json": {
       "model_id": "438dda410cf44313ae7d681006e30600",
       "version_major": 2,
       "version_minor": 0
      },
      "text/plain": [
       "train-00017-of-00037.parquet:   0%|          | 0.00/538M [00:00<?, ?B/s]"
      ]
     },
     "metadata": {},
     "output_type": "display_data"
    },
    {
     "data": {
      "application/vnd.jupyter.widget-view+json": {
       "model_id": "a63eeca16a44450db7a573ada35e77b3",
       "version_major": 2,
       "version_minor": 0
      },
      "text/plain": [
       "train-00018-of-00037.parquet:   0%|          | 0.00/538M [00:00<?, ?B/s]"
      ]
     },
     "metadata": {},
     "output_type": "display_data"
    },
    {
     "data": {
      "application/vnd.jupyter.widget-view+json": {
       "model_id": "862688b2da064840a122fe51cdcf474e",
       "version_major": 2,
       "version_minor": 0
      },
      "text/plain": [
       "train-00019-of-00037.parquet:   0%|          | 0.00/538M [00:00<?, ?B/s]"
      ]
     },
     "metadata": {},
     "output_type": "display_data"
    },
    {
     "data": {
      "application/vnd.jupyter.widget-view+json": {
       "model_id": "91e35f9431e14b5b91c86a1ee2d6ca41",
       "version_major": 2,
       "version_minor": 0
      },
      "text/plain": [
       "train-00020-of-00037.parquet:   0%|          | 0.00/538M [00:00<?, ?B/s]"
      ]
     },
     "metadata": {},
     "output_type": "display_data"
    },
    {
     "data": {
      "application/vnd.jupyter.widget-view+json": {
       "model_id": "82a83043ceea4cc0a65bfd43ce02c7cc",
       "version_major": 2,
       "version_minor": 0
      },
      "text/plain": [
       "train-00021-of-00037.parquet:   0%|          | 0.00/538M [00:00<?, ?B/s]"
      ]
     },
     "metadata": {},
     "output_type": "display_data"
    },
    {
     "data": {
      "application/vnd.jupyter.widget-view+json": {
       "model_id": "d667eef4521742ce98f331677f243c51",
       "version_major": 2,
       "version_minor": 0
      },
      "text/plain": [
       "train-00022-of-00037.parquet:   0%|          | 0.00/538M [00:00<?, ?B/s]"
      ]
     },
     "metadata": {},
     "output_type": "display_data"
    },
    {
     "data": {
      "application/vnd.jupyter.widget-view+json": {
       "model_id": "f8d7531ba6154d0da0474d80ea79211d",
       "version_major": 2,
       "version_minor": 0
      },
      "text/plain": [
       "train-00023-of-00037.parquet:   0%|          | 0.00/538M [00:00<?, ?B/s]"
      ]
     },
     "metadata": {},
     "output_type": "display_data"
    },
    {
     "data": {
      "application/vnd.jupyter.widget-view+json": {
       "model_id": "f668eb16d2df4756a802b208069bea43",
       "version_major": 2,
       "version_minor": 0
      },
      "text/plain": [
       "train-00024-of-00037.parquet:   0%|          | 0.00/538M [00:00<?, ?B/s]"
      ]
     },
     "metadata": {},
     "output_type": "display_data"
    },
    {
     "data": {
      "application/vnd.jupyter.widget-view+json": {
       "model_id": "adb6bd1562d4471f8a7063958c818d16",
       "version_major": 2,
       "version_minor": 0
      },
      "text/plain": [
       "train-00025-of-00037.parquet:   0%|          | 0.00/538M [00:00<?, ?B/s]"
      ]
     },
     "metadata": {},
     "output_type": "display_data"
    },
    {
     "data": {
      "application/vnd.jupyter.widget-view+json": {
       "model_id": "ed5b4fe34ab94742837c4025343be1ad",
       "version_major": 2,
       "version_minor": 0
      },
      "text/plain": [
       "train-00026-of-00037.parquet:   0%|          | 0.00/538M [00:00<?, ?B/s]"
      ]
     },
     "metadata": {},
     "output_type": "display_data"
    },
    {
     "data": {
      "application/vnd.jupyter.widget-view+json": {
       "model_id": "c78c51514e3545cfa825564cbaab6ab0",
       "version_major": 2,
       "version_minor": 0
      },
      "text/plain": [
       "train-00027-of-00037.parquet:   0%|          | 0.00/538M [00:00<?, ?B/s]"
      ]
     },
     "metadata": {},
     "output_type": "display_data"
    },
    {
     "data": {
      "application/vnd.jupyter.widget-view+json": {
       "model_id": "cb084b0c5bd547c79273c55d8f5813c5",
       "version_major": 2,
       "version_minor": 0
      },
      "text/plain": [
       "train-00028-of-00037.parquet:   0%|          | 0.00/538M [00:00<?, ?B/s]"
      ]
     },
     "metadata": {},
     "output_type": "display_data"
    },
    {
     "data": {
      "application/vnd.jupyter.widget-view+json": {
       "model_id": "2e8afc0218f3444bb1da7b895cb3e2bd",
       "version_major": 2,
       "version_minor": 0
      },
      "text/plain": [
       "train-00029-of-00037.parquet:   0%|          | 0.00/538M [00:00<?, ?B/s]"
      ]
     },
     "metadata": {},
     "output_type": "display_data"
    },
    {
     "data": {
      "application/vnd.jupyter.widget-view+json": {
       "model_id": "af7abd5ed03647f3a9175fea8da43326",
       "version_major": 2,
       "version_minor": 0
      },
      "text/plain": [
       "train-00030-of-00037.parquet:   0%|          | 0.00/538M [00:00<?, ?B/s]"
      ]
     },
     "metadata": {},
     "output_type": "display_data"
    },
    {
     "data": {
      "application/vnd.jupyter.widget-view+json": {
       "model_id": "9841b46ed83d418b9decbfa976b93996",
       "version_major": 2,
       "version_minor": 0
      },
      "text/plain": [
       "train-00031-of-00037.parquet:   0%|          | 0.00/538M [00:00<?, ?B/s]"
      ]
     },
     "metadata": {},
     "output_type": "display_data"
    },
    {
     "data": {
      "application/vnd.jupyter.widget-view+json": {
       "model_id": "12f1674356634691a97cf61481f47cb0",
       "version_major": 2,
       "version_minor": 0
      },
      "text/plain": [
       "train-00032-of-00037.parquet:   0%|          | 0.00/538M [00:00<?, ?B/s]"
      ]
     },
     "metadata": {},
     "output_type": "display_data"
    },
    {
     "data": {
      "application/vnd.jupyter.widget-view+json": {
       "model_id": "b8f1f688814c461485049318ad912893",
       "version_major": 2,
       "version_minor": 0
      },
      "text/plain": [
       "train-00033-of-00037.parquet:   0%|          | 0.00/538M [00:00<?, ?B/s]"
      ]
     },
     "metadata": {},
     "output_type": "display_data"
    },
    {
     "data": {
      "application/vnd.jupyter.widget-view+json": {
       "model_id": "e181e1b480bd46f38b1d21056eaf6b71",
       "version_major": 2,
       "version_minor": 0
      },
      "text/plain": [
       "train-00034-of-00037.parquet:   0%|          | 0.00/538M [00:00<?, ?B/s]"
      ]
     },
     "metadata": {},
     "output_type": "display_data"
    },
    {
     "data": {
      "application/vnd.jupyter.widget-view+json": {
       "model_id": "10160547b9e34329b908bf745594d174",
       "version_major": 2,
       "version_minor": 0
      },
      "text/plain": [
       "train-00035-of-00037.parquet:   0%|          | 0.00/538M [00:00<?, ?B/s]"
      ]
     },
     "metadata": {},
     "output_type": "display_data"
    },
    {
     "data": {
      "application/vnd.jupyter.widget-view+json": {
       "model_id": "e06a94035bda406ea6623e267145726d",
       "version_major": 2,
       "version_minor": 0
      },
      "text/plain": [
       "train-00036-of-00037.parquet:   0%|          | 0.00/538M [00:00<?, ?B/s]"
      ]
     },
     "metadata": {},
     "output_type": "display_data"
    },
    {
     "data": {
      "application/vnd.jupyter.widget-view+json": {
       "model_id": "2fa9c117f3124358a17f29b4ca123c37",
       "version_major": 2,
       "version_minor": 0
      },
      "text/plain": [
       "  0%|          | 0/12896 [00:00<?, ?it/s]"
      ]
     },
     "metadata": {},
     "output_type": "display_data"
    }
   ],
   "source": [
    "scores_repo_id = \"formll/M-FLYT-input-scores\"\n",
    "output_dir=\"parquet_data\"  # Output directory for the parquet files.\n",
    "tmp_dir=\"tmp_dir\"  # Temporary directory path that will be deleted after loading the dataset\n",
    "\n",
    "df = download_parquet_dataset_from_hf(repo_id=scores_repo_id, tmp_dir=tmp_dir)\n",
    "save_to_parquet_chunks(df, output_dir)"
   ]
  },
  {
   "cell_type": "markdown",
   "id": "ddf52e26-62ec-49aa-b90a-adf9b5cde24c",
   "metadata": {},
   "source": [
    "# Soft Cap Sampling and Hard Cap Sampling"
   ]
  },
  {
   "cell_type": "code",
   "execution_count": 10,
   "id": "a047a530-b696-4401-836c-7f6228d389fe",
   "metadata": {},
   "outputs": [],
   "source": [
    "# Generate a dummy dataframe of random \"uids\" and scores to demonstrate SCS and HCS.\n",
    "# In practice, you should run a scoring model on the DataComp dataset to create a dataframe of real UIDs and scores.\n",
    "\n",
    "def generate_random_df(num_rows=128_000):\n",
    "    # Generate random UIDs \n",
    "    uids = []\n",
    "    for _ in range(num_rows):\n",
    "        random_hex = uuid.uuid4().hex\n",
    "        while len(random_hex) < 32:\n",
    "            random_hex = \"0\" + random_hex\n",
    "        uids.append(random_hex)\n",
    "    \n",
    "    # Generate Gaussian distributed scores\n",
    "    scores = np.random.normal(loc=0.0, scale=2.5, size=num_rows)\n",
    "    \n",
    "    df = pd.DataFrame({'uid': uids, 'score': scores})\n",
    "    \n",
    "    return df\n",
    "\n",
    "scores_df = generate_random_df()"
   ]
  },
  {
   "cell_type": "code",
   "execution_count": 11,
   "id": "adb88100-ea5d-4d98-9d9f-6e54a3310f9e",
   "metadata": {},
   "outputs": [
    {
     "data": {
      "text/html": [
       "<div>\n",
       "<style scoped>\n",
       "    .dataframe tbody tr th:only-of-type {\n",
       "        vertical-align: middle;\n",
       "    }\n",
       "\n",
       "    .dataframe tbody tr th {\n",
       "        vertical-align: top;\n",
       "    }\n",
       "\n",
       "    .dataframe thead th {\n",
       "        text-align: right;\n",
       "    }\n",
       "</style>\n",
       "<table border=\"1\" class=\"dataframe\">\n",
       "  <thead>\n",
       "    <tr style=\"text-align: right;\">\n",
       "      <th></th>\n",
       "      <th>uid</th>\n",
       "      <th>score</th>\n",
       "    </tr>\n",
       "  </thead>\n",
       "  <tbody>\n",
       "    <tr>\n",
       "      <th>0</th>\n",
       "      <td>12cd4571ed274b20bc7eaaefeb4dfd13</td>\n",
       "      <td>-0.715107</td>\n",
       "    </tr>\n",
       "    <tr>\n",
       "      <th>1</th>\n",
       "      <td>649cb87f0005407a9fb1742643d0e765</td>\n",
       "      <td>-0.850894</td>\n",
       "    </tr>\n",
       "    <tr>\n",
       "      <th>2</th>\n",
       "      <td>eeaf697451754d6191bb1c08bece19ab</td>\n",
       "      <td>-0.475887</td>\n",
       "    </tr>\n",
       "    <tr>\n",
       "      <th>3</th>\n",
       "      <td>d42a2b88edda4d72b5c7e83f70c14451</td>\n",
       "      <td>0.351007</td>\n",
       "    </tr>\n",
       "    <tr>\n",
       "      <th>4</th>\n",
       "      <td>aac8cdbd8d8148d78a73ff996620fc50</td>\n",
       "      <td>-2.741925</td>\n",
       "    </tr>\n",
       "  </tbody>\n",
       "</table>\n",
       "</div>"
      ],
      "text/plain": [
       "                                uid     score\n",
       "0  12cd4571ed274b20bc7eaaefeb4dfd13 -0.715107\n",
       "1  649cb87f0005407a9fb1742643d0e765 -0.850894\n",
       "2  eeaf697451754d6191bb1c08bece19ab -0.475887\n",
       "3  d42a2b88edda4d72b5c7e83f70c14451  0.351007\n",
       "4  aac8cdbd8d8148d78a73ff996620fc50 -2.741925"
      ]
     },
     "execution_count": 11,
     "metadata": {},
     "output_type": "execute_result"
    }
   ],
   "source": [
    "scores_df.iloc[:5]"
   ]
  },
  {
   "cell_type": "code",
   "execution_count": 12,
   "id": "ccf17155-1cdb-4e5e-b595-8e45d964769a",
   "metadata": {},
   "outputs": [
    {
     "data": {
      "text/plain": [
       "<Axes: >"
      ]
     },
     "execution_count": 12,
     "metadata": {},
     "output_type": "execute_result"
    },
    {
     "data": {
      "image/png": "[encoded data removed]",
      "text/plain": [
       "<Figure size 640x480 with 1 Axes>"
      ]
     },
     "metadata": {},
     "output_type": "display_data"
    }
   ],
   "source": [
    "scores_df['score'].hist(bins=100)"
   ]
  },
  {
   "cell_type": "code",
   "execution_count": 13,
   "id": "d4cc01c6-895b-47a6-8681-86db3b59486a",
   "metadata": {},
   "outputs": [],
   "source": [
    "from scipy.special import softmax\n",
    "def convert_base16_str_to_2_nums(uids):\n",
    "    \"\"\"Converts uids in string format to dtype=[('f0', '<u8'), ('f1', '<u8')] that is used by the DataComp resharder\"\"\"\n",
    "    return np.array(\n",
    "        [(int(uid[:16], 16), int(uid[16:32], 16)) for uid in uids], np.dtype(\"u8,u8\"))\n",
    "\n",
    "def soft_cap_sampling(df, repetition_penalty, total_size=128_000_000, scores_col='score', batch_size=100_000):\n",
    "    pre_softmax = df[scores_col].values.copy()\n",
    "    \n",
    "    indices = df.index\n",
    "    sampled_indices = []\n",
    "\n",
    "    with tqdm(total=total_size, desc=\"Sampling\") as pbar:\n",
    "        while len(sampled_indices) < total_size:\n",
    "            probs = softmax(pre_softmax)\n",
    "            \n",
    "            # Sample batch\n",
    "            batch_size = min(batch_size, total_size - len(sampled_indices))\n",
    "            batch = np.random.choice(indices, size=batch_size, p=probs, replace=False)\n",
    "    \n",
    "            sampled_indices = np.concatenate([sampled_indices, batch])\n",
    "            pre_softmax[batch] -= repetition_penalty\n",
    "            pbar.update(batch_size)\n",
    "            \n",
    "    return np.array(sampled_indices)"
   ]
  },
  {
   "cell_type": "code",
   "execution_count": 14,
   "id": "9ab252eb-2f3a-4d9a-91d1-7b3dac659ff1",
   "metadata": {},
   "outputs": [
    {
     "data": {
      "application/vnd.jupyter.widget-view+json": {
       "model_id": "003ce383bd9345bd9f8d8465492a7b84",
       "version_major": 2,
       "version_minor": 0
      },
      "text/plain": [
       "Sampling:   0%|          | 0/128000 [00:00<?, ?it/s]"
      ]
     },
     "metadata": {},
     "output_type": "display_data"
    }
   ],
   "source": [
    "scs_sampled_indices = soft_cap_sampling(scores_df, repetition_penalty=0.15, total_size=128_000, batch_size=100)"
   ]
  },
  {
   "cell_type": "code",
   "execution_count": 15,
   "id": "4da55f59-d825-4329-9e61-b8df5a625a8b",
   "metadata": {},
   "outputs": [],
   "source": [
    "scs_uids = convert_base16_str_to_2_nums(scores_df.loc[scs_sampled_indices, 'uid'].values)\n",
    "scs_uids.sort()"
   ]
  },
  {
   "cell_type": "code",
   "execution_count": 16,
   "id": "c508fbf3-5750-47d5-baf5-22b20583a84a",
   "metadata": {},
   "outputs": [
    {
     "data": {
      "text/plain": [
       "(3255344698199460802, 9632619211100621694)      44\n",
       "(13374296148208140656, 10578773258685140480)    44\n",
       "(9336541739983850336, 11828794221445939517)     41\n",
       "(11389620096099500426, 11216317604645705849)    41\n",
       "(2035832706695711260, 10785756619996908161)     40\n",
       "                                                ..\n",
       "(8563996129610451167, 9374702557412214994)       1\n",
       "(8563238695888308773, 12957748429224105458)      1\n",
       "(8559147052888377974, 13048377904476344586)      1\n",
       "(8558741260083676598, 13211173076444703784)      1\n",
       "(18446528657643752204, 10446305510704443053)     1\n",
       "Name: count, Length: 37487, dtype: int64"
      ]
     },
     "execution_count": 16,
     "metadata": {},
     "output_type": "execute_result"
    }
   ],
   "source": [
    "pd.value_counts(scs_uids)"
   ]
  },
  {
   "cell_type": "code",
   "execution_count": 17,
   "id": "6f97a4a5-7af3-4c6c-af7d-db34a4165bfb",
   "metadata": {},
   "outputs": [],
   "source": [
    "def hard_cap_sampling(df, frequency_limit, total_size=128_000_000, scores_col='score', batch_size=1_000_000):\n",
    "    probs = softmax(df[scores_col].values)\n",
    "    indices = df.index\n",
    "    counts = np.zeros_like(indices)\n",
    "    sampled_indices = []\n",
    "\n",
    "    with tqdm(total=total_size, desc=\"Sampling\") as pbar:\n",
    "        while len(sampled_indices) < total_size:\n",
    "            # Create mask for valid indices (count < max_repeats)\n",
    "            valid_mask = counts < frequency_limit\n",
    "            \n",
    "            # Zero out probabilities for invalid indices and renormalize\n",
    "            masked_probs = probs * valid_mask\n",
    "            masked_probs = masked_probs / masked_probs.sum()\n",
    "            \n",
    "            # Sample batch\n",
    "            batch_size = min(batch_size, total_size - len(sampled_indices))\n",
    "            batch = np.random.choice(indices, size=batch_size, p=masked_probs, replace=True)\n",
    "            \n",
    "            # Update counts and collect sampled_indices\n",
    "            for idx in batch:\n",
    "                if len(sampled_indices) >= total_size:\n",
    "                    break\n",
    "                \n",
    "                if counts[idx] < frequency_limit:\n",
    "                    sampled_indices.append(idx)\n",
    "                    counts[idx] = counts[idx] + 1\n",
    "                    \n",
    "            pbar.update(batch_size)\n",
    "\n",
    "    return np.array(sampled_indices)"
   ]
  },
  {
   "cell_type": "code",
   "execution_count": 18,
   "id": "973e2270-65bf-4316-a9e2-7881014bbd39",
   "metadata": {},
   "outputs": [
    {
     "data": {
      "application/vnd.jupyter.widget-view+json": {
       "model_id": "9834efea08724e18a8e8890f91478014",
       "version_major": 2,
       "version_minor": 0
      },
      "text/plain": [
       "Sampling:   0%|          | 0/128000 [00:00<?, ?it/s]"
      ]
     },
     "metadata": {},
     "output_type": "display_data"
    }
   ],
   "source": [
    "hcs_sampled_indices = hard_cap_sampling(scores_df, frequency_limit=15, total_size=128_000, batch_size=100)"
   ]
  },
  {
   "cell_type": "code",
   "execution_count": 19,
   "id": "caa55714-95fe-4b5d-be5f-23a68db1fc0b",
   "metadata": {},
   "outputs": [],
   "source": [
    "hcs_uids = convert_base16_str_to_2_nums(scores_df.loc[hcs_sampled_indices, 'uid'].values)\n",
    "hcs_uids.sort()"
   ]
  },
  {
   "cell_type": "code",
   "execution_count": 20,
   "id": "8facfa9b-2e06-4f0a-85db-1f43adedc3df",
   "metadata": {},
   "outputs": [
    {
     "data": {
      "text/plain": [
       "(3078583787178510497, 11764786742603000304)     15\n",
       "(8020123843118844922, 9463100297232035801)      15\n",
       "(9716936960599736467, 9569276147193349359)      15\n",
       "(10712521234469307738, 11210997836750414383)    15\n",
       "(9717429857683261873, 9503729397272228282)      15\n",
       "                                                ..\n",
       "(5636012089858149659, 13266799088291232785)      1\n",
       "(12296844948496403098, 10703922408933454170)     1\n",
       "(5634809896747224026, 9780353871664001926)       1\n",
       "(12297010276001333750, 9817652693989342663)      1\n",
       "(66670897807644, 13120469940474069220)           1\n",
       "Name: count, Length: 33191, dtype: int64"
      ]
     },
     "execution_count": 20,
     "metadata": {},
     "output_type": "execute_result"
    }
   ],
   "source": [
    "pd.value_counts(hcs_uids)"
   ]
  },
  {
   "cell_type": "markdown",
   "id": "fc9f9e96-0253-42bf-b5b8-d98d572f78e1",
   "metadata": {},
   "source": [
    "# Load M-FLYT input scores models"
   ]
  },
  {
   "cell_type": "code",
   "execution_count": 21,
   "id": "f4e88142-ed21-4b03-b668-4d28cdd4b0a5",
   "metadata": {},
   "outputs": [],
   "source": [
    "input_scores_models_repo_id = \"formll/M-FLYT-input-scores-models\"\n",
    "cache_dir = None  # Specify cache dir if you want"
   ]
  },
  {
   "cell_type": "code",
   "execution_count": 22,
   "id": "82192545-b620-4769-8eb0-9bdc26ad74d6",
   "metadata": {},
   "outputs": [],
   "source": [
    "classifier_filename = 'CC2M-Classifier.pt'  # Same for 'IN1K-Classifier.pt'\n",
    "classifier_model_path = hf_hub_download(\n",
    "    repo_id=input_scores_models_repo_id,\n",
    "    filename=classifier_filename,\n",
    "    cache_dir=cache_dir)\n",
    "classifier_checkpoint = torch.load(classifier_model_path, map_location='cpu', weights_only=True)"
   ]
  },
  {
   "cell_type": "code",
   "execution_count": 23,
   "id": "078ebfd9-1d38-406d-885b-bec87e97cc0b",
   "metadata": {},
   "outputs": [
    {
     "data": {
      "text/plain": [
       "<All keys matched successfully>"
      ]
     },
     "execution_count": 23,
     "metadata": {},
     "output_type": "execute_result"
    }
   ],
   "source": [
    "classifier = torch.nn.Linear(classifier_checkpoint['weight'].shape[1], classifier_checkpoint['weight'].shape[0])\n",
    "classifier.load_state_dict(classifier_checkpoint)"
   ]
  },
  {
   "cell_type": "code",
   "execution_count": 24,
   "id": "c43bf07d-607c-425f-a831-f62f832b5fbc",
   "metadata": {},
   "outputs": [],
   "source": [
    "dfn_filename = 'DFN-FT.pt'  # Same for 'DFN-Base.pt'\n",
    "dfn_model_path = hf_hub_download(\n",
    "    repo_id=input_scores_models_repo_id,\n",
    "    filename=dfn_filename,\n",
    "    cache_dir=cache_dir)\n",
    "dfn_model = create_model(\n",
    "    model_name='ViT-B-32',\n",
    "    pretrained=dfn_model_path)"
   ]
  }
 ],
 "metadata": {
  "kernelspec": {
   "display_name": "Python 3 (ipykernel)",
   "language": "python",
   "name": "python3"
  },
  "language_info": {
   "codemirror_mode": {
    "name": "ipython",
    "version": 3
   },
   "file_extension": ".py",
   "mimetype": "text/x-python",
   "name": "python",
   "nbconvert_exporter": "python",
   "pygments_lexer": "ipython3",
   "version": "3.8.5"
  }
 },
 "nbformat": 4,
 "nbformat_minor": 5
}
